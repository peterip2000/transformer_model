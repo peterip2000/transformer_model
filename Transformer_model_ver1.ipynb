{
 "cells": [
  {
   "cell_type": "code",
   "execution_count": null,
   "id": "6f337541",
   "metadata": {},
   "outputs": [],
   "source": [
    "import torch\n",
    "import math\n",
    "from torch import nn\n",
    "from dataclasses import dataclass\n",
    "from transformers import BertTokenizer\n",
    "import torch.nn.functional as F\n",
    "#Import environment"
   ]
  },
  {
   "cell_type": "code",
   "execution_count": null,
   "id": "e5c2a060",
   "metadata": {},
   "outputs": [],
   "source": [
    "@dataclass\n",
    "class ModelArgs:\n",
    "    n_embd: int # 嵌入维度\n",
    "    n_heads: int # 头数\n",
    "    dim: int # 模型维度\n",
    "    dropout: float\n",
    "    max_seq_len: int\n",
    "    vocab_size: int\n",
    "    block_size: int\n",
    "    n_layer: int"
   ]
  },
  {
   "cell_type": "code",
   "execution_count": null,
   "id": "c25dd1f6",
   "metadata": {},
   "outputs": [],
   "source": []
  }
 ],
 "metadata": {
  "kernelspec": {
   "display_name": "Python 3 (ipykernel)",
   "language": "python",
   "name": "python3"
  },
  "language_info": {
   "codemirror_mode": {
    "name": "ipython",
    "version": 3
   },
   "file_extension": ".py",
   "mimetype": "text/x-python",
   "name": "python",
   "nbconvert_exporter": "python",
   "pygments_lexer": "ipython3",
   "version": "3.9.13"
  }
 },
 "nbformat": 4,
 "nbformat_minor": 5
}
